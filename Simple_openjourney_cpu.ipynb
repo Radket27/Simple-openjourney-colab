{
  "nbformat": 4,
  "nbformat_minor": 0,
  "metadata": {
    "colab": {
      "provenance": []
    },
    "kernelspec": {
      "name": "python3",
      "display_name": "Python 3"
    },
    "language_info": {
      "name": "python"
    },
    "gpuClass": "standard"
  },
  "cells": [
    {
      "cell_type": "code",
      "execution_count": null,
      "metadata": {
        "id": "5mydV0U0bRDq"
      },
      "outputs": [],
      "source": [
        "%pip install diffusers transformers accelerate scipy safetensors"
      ]
    },
    {
      "cell_type": "code",
      "source": [
        "import torch\n",
        "from diffusers import StableDiffusionPipeline, DPMSolverMultistepScheduler\n",
        "model_id = \"prompthero/openjourney-v2\"\n",
        "pipe = StableDiffusionPipeline.from_pretrained(model_id, torch_dtype=torch.float32)\n",
        "pipe.scheduler = DPMSolverMultistepScheduler.from_config(pipe.scheduler.config)\n",
        "pipe = pipe.to(\"cpu\")"
      ],
      "metadata": {
        "id": "CCoLE2nbbi_j"
      },
      "execution_count": null,
      "outputs": []
    },
    {
      "cell_type": "code",
      "source": [
        "a1 = True\n",
        "while(a1):\n",
        "    im = input(\"How many pictures or quit(q)?: \")\n",
        "    if(im == 'q'):\n",
        "        a1 = False\n",
        "    else:\n",
        "        im = int(im)\n",
        "        prompt = input(\"Prompt: \")\n",
        "        for i in range(im):\n",
        "            image = pipe(prompt).images[0]\n",
        "            display(image)\n",
        "            print(f\"image {i+1}/{im}\")"
      ],
      "metadata": {
        "id": "C9aeP7RDbtXA"
      },
      "execution_count": null,
      "outputs": []
    }
  ]
}